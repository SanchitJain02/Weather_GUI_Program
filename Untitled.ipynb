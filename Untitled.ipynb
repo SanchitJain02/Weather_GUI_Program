{
 "cells": [
  {
   "cell_type": "code",
   "execution_count": 1,
   "id": "7eff6fac",
   "metadata": {},
   "outputs": [],
   "source": [
    "from tkinter import *\n",
    "import tkinter as tk\n",
    "from geopy.geocoders import Nominatim\n",
    "from tkinter import ttk,messagebox\n",
    "from timezonefinder import TimezoneFinder\n",
    "from datetime import datetime\n",
    "import requests\n",
    "import pytz\n",
    "import time"
   ]
  },
  {
   "cell_type": "code",
   "execution_count": null,
   "id": "a7c65132",
   "metadata": {},
   "outputs": [],
   "source": []
  }
 ],
 "metadata": {
  "kernelspec": {
   "display_name": "Python 3",
   "language": "python",
   "name": "python3"
  },
  "language_info": {
   "codemirror_mode": {
    "name": "ipython",
    "version": 3
   },
   "file_extension": ".py",
   "mimetype": "text/x-python",
   "name": "python",
   "nbconvert_exporter": "python",
   "pygments_lexer": "ipython3",
   "version": "3.8.8"
  }
 },
 "nbformat": 4,
 "nbformat_minor": 5
}
